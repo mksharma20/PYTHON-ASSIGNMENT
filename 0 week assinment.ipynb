{
 "cells": [
  {
   "cell_type": "raw",
   "id": "c33cbd23-08f0-49cf-95d6-5f0071e0d14a",
   "metadata": {},
   "source": [
    "Q1. Create one variable containing following type of data:\n",
    "(i) string\n",
    "(ii) list\n",
    "(iii) float\n",
    "(iv) tuple"
   ]
  },
  {
   "cell_type": "code",
   "execution_count": 1,
   "id": "e5ead250-0d00-4fd8-a2a7-d1c5f06ee94e",
   "metadata": {},
   "outputs": [
    {
     "name": "stdout",
     "output_type": "stream",
     "text": [
      "<class 'str'> <class 'list'> <class 'float'> <class 'tuple'>\n"
     ]
    }
   ],
   "source": [
    "x=\"mk sharma\"\n",
    "y=['dsfsa',5566,'dff',56.55]\n",
    "z=58.56\n",
    "a=('dsda',55,'fgs')\n",
    "print(type(x),type(y),type(z),type(a))\n"
   ]
  },
  {
   "cell_type": "raw",
   "id": "97c2dd17-4213-408f-a78b-58b67f594fad",
   "metadata": {},
   "source": [
    "Q2. Given are some following variables containing data:\n",
    "(i) var1 = ''\n",
    "(ii) var2 = '[ DS , ML , Python]'\n",
    "(iii) var3 = [ ‘DS’ , ’ML’ , ‘Python’ ]\n",
    "(iv) var4 = 1.\n",
    "What will be the data type of the above given variable.\n"
   ]
  },
  {
   "cell_type": "code",
   "execution_count": 2,
   "id": "679c46d4-fd62-46aa-b225-ccdaae45fd24",
   "metadata": {},
   "outputs": [
    {
     "name": "stdout",
     "output_type": "stream",
     "text": [
      "<class 'str'> <class 'str'> <class 'list'> <class 'float'>\n"
     ]
    }
   ],
   "source": [
    "var1 = ''\n",
    "var2 = '[ DS , ML , Python]'\n",
    "var3 = [ 'DS' , 'ML' , 'Python' ]\n",
    "var4 = 1.\n",
    "\n",
    "'''The data types of the given variables are:\n",
    "\n",
    "var1 is a empty string\n",
    "var2 is a string (containing a list of strings)\n",
    "var3 is a list \n",
    "var4 is a float\n",
    "we also check''' \n",
    "print(type(var1),type(var2),type(var3),type(var4)) \n",
    "#output --<class 'str'> <class 'str'> <class 'list'> <class 'float'>"
   ]
  },
  {
   "cell_type": "markdown",
   "id": "bb85d655-abf4-47bc-a099-0f72097ff1f8",
   "metadata": {},
   "source": [
    "Q3. Explain the use of the following operators using an example:\n",
    "(i) /\n",
    "(ii) %\n",
    "(iii) //\n",
    "(iv) **"
   ]
  },
  {
   "cell_type": "code",
   "execution_count": 3,
   "id": "48b818d0-3dbb-4803-9221-107c77ed4919",
   "metadata": {},
   "outputs": [
    {
     "name": "stdout",
     "output_type": "stream",
     "text": [
      "(1)  5.0  ,(2)   2  ,(3)   18 , (4)   125\n"
     ]
    }
   ],
   "source": [
    "#(1)-  / use for divide integer \n",
    "x1=25/5\n",
    "\n",
    "#(2) % use for give remender after divide\n",
    "x2=30%4\n",
    "\n",
    "#(3) // use for ask quotient \n",
    "x3=55//3\n",
    "\n",
    "#(4) ** use for squier,cube ect.\n",
    "x4=5**3\n",
    "print( \"(1) \",x1,\" ,(2)  \",x2, \" ,(3)  \",x3, \", (4)  \",x4)"
   ]
  },
  {
   "cell_type": "raw",
   "id": "13e564b7-6563-4c49-8d7f-f2b3c115ec0f",
   "metadata": {},
   "source": [
    "Q4. Create a list of length 10 of your choice containing multiple types of data. Using for loop print the\n",
    "element and its data type."
   ]
  },
  {
   "cell_type": "code",
   "execution_count": 4,
   "id": "2b46d689-4daa-4fea-b0fc-2ab8d34460d8",
   "metadata": {},
   "outputs": [
    {
     "name": "stdout",
     "output_type": "stream",
     "text": [
      "hii    <class 'str'>\n",
      "25    <class 'int'>\n",
      "65.36    <class 'float'>\n",
      "{'dsfsf': 25, 'mk': 56}    <class 'dict'>\n",
      "(25+85j)    <class 'complex'>\n",
      "True    <class 'bool'>\n",
      "[255, 65.5, 'dfas']    <class 'list'>\n",
      "(56, 56.65)    <class 'tuple'>\n",
      "55    <class 'int'>\n",
      "56.5    <class 'float'>\n"
     ]
    }
   ],
   "source": [
    "x=['hii',25,65.36,{\"dsfsf\":25,\"mk\":56},25+85j,True,[255,65.5,'dfas'],(56,56.65),55,56.5]\n",
    "for _ in x:\n",
    "    print(_,\"  \",type(_))\n"
   ]
  },
  {
   "cell_type": "raw",
   "id": "3ff2c6d0-a667-421d-b1fb-ddd7449b27ae",
   "metadata": {},
   "source": [
    "Q5. Using a while loop, verify if the number A is purely divisible by number B and if so then how many\n",
    "times it can be divisible."
   ]
  },
  {
   "cell_type": "code",
   "execution_count": 6,
   "id": "4d53f7a6-5c29-411a-8cf6-1261c1ead881",
   "metadata": {},
   "outputs": [
    {
     "name": "stdin",
     "output_type": "stream",
     "text": [
      "Enter the number A:  200\n",
      "Enter the number B:  100\n"
     ]
    },
    {
     "name": "stdout",
     "output_type": "stream",
     "text": [
      "Number 2.0 is divisible by number 100  1  times.\n"
     ]
    }
   ],
   "source": [
    "A = int(input(\"Enter the number A: \"))\n",
    "B = int(input(\"Enter the number B: \"))\n",
    "\n",
    "c = 0\n",
    "while A % B == 0:\n",
    "    A = A / B\n",
    "    C =+ 1\n",
    "\n",
    "if C > 0:\n",
    "    print(f\"Number {A} is divisible by number {B} \", C, \" times.\")\n",
    "else:\n",
    "    print(f\"Number {A} is not divisible by number {B}.\")\n"
   ]
  },
  {
   "cell_type": "raw",
   "id": "4d877d06-5547-4861-a5e4-02a28f3cdc91",
   "metadata": {},
   "source": [
    "Q6. Create a list containing 25 int type data. Using for loop and if-else condition print if the element is\n",
    "divisible by 3 or not."
   ]
  },
  {
   "cell_type": "code",
   "execution_count": 7,
   "id": "bdf0e3e9-949d-4a7c-9bc7-c7cee8d78b46",
   "metadata": {},
   "outputs": [
    {
     "name": "stdout",
     "output_type": "stream",
     "text": [
      "2556 is divisible by 3\n",
      "545 is not divisible by 3\n",
      "145 is not divisible by 3\n",
      "14455 is not divisible by 3\n",
      "1452 is divisible by 3\n",
      "1445 is not divisible by 3\n",
      "4121 is not divisible by 3\n",
      "4455 is divisible by 3\n",
      "145 is not divisible by 3\n",
      "4411 is not divisible by 3\n",
      "564564 is divisible by 3\n",
      "465 is divisible by 3\n",
      "46 is not divisible by 3\n",
      "464 is not divisible by 3\n",
      "64 is not divisible by 3\n",
      "64 is not divisible by 3\n",
      "151 is not divisible by 3\n",
      "65161 is not divisible by 3\n",
      "313 is not divisible by 3\n",
      "1546 is not divisible by 3\n",
      "513 is divisible by 3\n",
      "31 is not divisible by 3\n",
      "516 is divisible by 3\n",
      "1313 is not divisible by 3\n",
      "165 is divisible by 3\n"
     ]
    }
   ],
   "source": [
    "x=[2556,545,145,14455,1452,1445,4121,4455,145,4411,564564,465,46,464,64,64,151,65161,313,1546,513,31,516,1313,165]\n",
    "for _ in x :\n",
    "    if  _%3==0:\n",
    "        print(_,\"is divisible by 3\")\n",
    "    else :\n",
    "        print(_,\"is not divisible by 3\")\n",
    "        "
   ]
  },
  {
   "cell_type": "code",
   "execution_count": null,
   "id": "4e6cb8af-b915-4ad7-a042-451c15bb6e49",
   "metadata": {},
   "outputs": [],
   "source": []
  }
 ],
 "metadata": {
  "kernelspec": {
   "display_name": "Python 3 (ipykernel)",
   "language": "python",
   "name": "python3"
  },
  "language_info": {
   "codemirror_mode": {
    "name": "ipython",
    "version": 3
   },
   "file_extension": ".py",
   "mimetype": "text/x-python",
   "name": "python",
   "nbconvert_exporter": "python",
   "pygments_lexer": "ipython3",
   "version": "3.10.8"
  }
 },
 "nbformat": 4,
 "nbformat_minor": 5
}
