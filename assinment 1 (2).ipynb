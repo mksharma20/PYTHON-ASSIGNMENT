{
 "cells": [
  {
   "cell_type": "markdown",
   "id": "04e4db1b-cd75-49bf-8a99-75fbc8d6ae14",
   "metadata": {},
   "source": [
    "Q1. How do you comment code in Python? What are the different types of comments?\n"
   ]
  },
  {
   "cell_type": "raw",
   "id": "a2553fd2-1bd5-4cdb-a4a0-a87340382981",
   "metadata": {
    "tags": []
   },
   "source": [
    "''' we comment code in python using # symbol ,using # symbol we comment single line \n",
    "we have two type of comment available in python\n",
    " 1- single line comment using (#)\n",
    " 2- multi line comment using (''') & (\"\"\")"
   ]
  },
  {
   "cell_type": "markdown",
   "id": "0334bd60-08d3-4081-8d32-e7853f4fafa5",
   "metadata": {},
   "source": [
    " Q2. What are variables in Python? How do you declare and assign values to variables?"
   ]
  },
  {
   "cell_type": "code",
   "execution_count": null,
   "id": "da4cb927-c690-4732-b216-541597af4f9b",
   "metadata": {},
   "outputs": [],
   "source": [
    "''' a variable is a name to store a  value provided by the user and system \n",
    "assign value  is''' \n",
    "x=253\n",
    "type(x)  -- int\n",
    "y='hii I am Manoj'\n",
    "type(y) --str\n",
    "# we also assign new values to exist variables like\n",
    " x=363\n",
    " y='manoj live in rajashtan'"
   ]
  },
  {
   "cell_type": "markdown",
   "id": "b29d378b-9547-4eb6-b818-1c3232fb3f2c",
   "metadata": {},
   "source": [
    "Q3. How do you convert one data type to another in Python ?\n"
   ]
  },
  {
   "cell_type": "code",
   "execution_count": 12,
   "id": "cba295fd-0c20-4c1c-909a-899ec1c68735",
   "metadata": {},
   "outputs": [
    {
     "name": "stdout",
     "output_type": "stream",
     "text": [
      "<class 'str'> ,  2545\n"
     ]
    }
   ],
   "source": [
    "\n",
    "''' in python we covert 1 data type to another data type we use conversion functions  to change data type '''\n",
    "x=2545 \n",
    "\n",
    "type(x)  # int\n",
    "# coverting to string \n",
    "y=str(x)\n",
    "print(type(y),', ',y) #output <class 'str'> ,  2545"
   ]
  },
  {
   "cell_type": "markdown",
   "id": "bb492e42-d20b-42df-939c-9b2c5ae4b38f",
   "metadata": {},
   "source": [
    "4. How do you write and execute a Python script from the command line?"
   ]
  },
  {
   "cell_type": "code",
   "execution_count": 18,
   "id": "bb54fa5f-e800-4ec2-8483-c10c57c7fc58",
   "metadata": {},
   "outputs": [
    {
     "name": "stdout",
     "output_type": "stream",
     "text": [
      "143\n"
     ]
    }
   ],
   "source": [
    "''' firstly we open jupyter notebook and create a new file extension name.ipynb \n",
    "and write a code and run the program \n",
    "ex.-\n",
    "we create a file pythan_lesson.ipynb '''\n",
    "x=56\n",
    "y=87\n",
    "z=x+y\n",
    "print(z)   #output 143"
   ]
  },
  {
   "cell_type": "markdown",
   "id": "1679a91b-6e59-484c-bf9a-ab92fc93ef15",
   "metadata": {},
   "source": [
    "Q5. Given a list my_list = [1, 2, 3, 4, 5], write the code to slice the list and obtain the sub-list [2, 3"
   ]
  },
  {
   "cell_type": "code",
   "execution_count": 22,
   "id": "4a03a11c-cd05-40ad-90ec-0db9754d1e0d",
   "metadata": {
    "tags": []
   },
   "outputs": [
    {
     "name": "stdout",
     "output_type": "stream",
     "text": [
      "[2, 3]\n"
     ]
    }
   ],
   "source": [
    "my_list = [1, 2, 3, 4, 5]\n",
    "sub_list=my_list[1:3]\n",
    "print(sub_list)"
   ]
  },
  {
   "cell_type": "markdown",
   "id": "e3f589f9-7907-4ad7-98c1-e3ace51c2685",
   "metadata": {},
   "source": [
    "Q6. What is a complex number in mathematics, and how is it represented in Python?"
   ]
  },
  {
   "cell_type": "code",
   "execution_count": 25,
   "id": "06c5cd13-3d17-4eba-a39d-8cc011cd124d",
   "metadata": {},
   "outputs": [
    {
     "name": "stdout",
     "output_type": "stream",
     "text": [
      "<class 'complex'>  , (85+6j)\n"
     ]
    }
   ],
   "source": [
    "'''Complex number in mathematics is a combination of real and imaginary numbers comination \n",
    "like 22+5i, 22 represent real number and 5 represent imaginary number in mathematics\n",
    "we represent imaginary numbers to i and in python we represent j  '''\n",
    "x=85+6j\n",
    "print(type(x),' ,',x) #output --- <class 'complex'>  , (85+6j)"
   ]
  },
  {
   "cell_type": "markdown",
   "id": "4a7b19e3-8f10-4eed-8def-3279990f9054",
   "metadata": {},
   "source": [
    "Q7. What is the correct way to declare a variable named age and assign the value 25 to it ?"
   ]
  },
  {
   "cell_type": "code",
   "execution_count": 26,
   "id": "4a44635b-ead5-4125-aeb8-c45bd205c790",
   "metadata": {},
   "outputs": [
    {
     "name": "stdout",
     "output_type": "stream",
     "text": [
      "25\n"
     ]
    }
   ],
   "source": [
    "''' the correct way  to declare age=25 variable  25 is a integer then we assign value age to 25\n",
    "we also assign new value to age '''\n",
    "age=25\n",
    "print(age)  #output 25\n"
   ]
  },
  {
   "cell_type": "markdown",
   "id": "ce16d9e9-48d3-413d-a2df-81e6440d5648",
   "metadata": {},
   "source": [
    "Q8. Declare a variable named price and assign the value 9.99 to it. What data type does this variable \n",
    "belong to"
   ]
  },
  {
   "cell_type": "code",
   "execution_count": 27,
   "id": "967e8e06-f1f0-4054-bdda-10b8ba64c4c3",
   "metadata": {
    "collapsed": true,
    "jupyter": {
     "outputs_hidden": true
    },
    "tags": []
   },
   "outputs": [
    {
     "data": {
      "text/plain": [
       "float"
      ]
     },
     "execution_count": 27,
     "metadata": {},
     "output_type": "execute_result"
    }
   ],
   "source": [
    "price=9.99\n",
    "type(price) #outeput -- float\n",
    "#price data type is float,float data type store value in decimal "
   ]
  },
  {
   "cell_type": "markdown",
   "id": "8597182d-9b66-4140-b9e5-922c4f56f815",
   "metadata": {},
   "source": [
    "Q9. Create a variable named name and assign your full name to it as a string. How would you print the \n",
    "value of this variable"
   ]
  },
  {
   "cell_type": "code",
   "execution_count": 2,
   "id": "8e711fb1-e13e-4d3b-8ba7-e36d4899e214",
   "metadata": {},
   "outputs": [
    {
     "name": "stdout",
     "output_type": "stream",
     "text": [
      "manoj sharma\n"
     ]
    }
   ],
   "source": [
    "name=\"manoj sharma\"\n",
    "\n",
    "print(name) #output--manoj sharma"
   ]
  },
  {
   "cell_type": "markdown",
   "id": "2918159f-56e6-4169-959f-4c9b20c9c51b",
   "metadata": {},
   "source": [
    "Q10. Given the string \"Hello, World!\", extract the substring \"World\".?"
   ]
  },
  {
   "cell_type": "code",
   "execution_count": 9,
   "id": "ab2564b1-913d-46ac-b2ae-92225ba2061d",
   "metadata": {},
   "outputs": [
    {
     "name": "stdout",
     "output_type": "stream",
     "text": [
      "World\n"
     ]
    }
   ],
   "source": [
    "x=\"Hello, World\"\n",
    "print(x[7:12]) #output---World"
   ]
  },
  {
   "cell_type": "markdown",
   "id": "b14a3f82-db2e-448a-a48a-698f2791f0ab",
   "metadata": {},
   "source": [
    "Q11. Create a variable named \"is_student\" and assign it a boolean value indicating whether you are \n",
    "currently a student or not"
   ]
  },
  {
   "cell_type": "code",
   "execution_count": 21,
   "id": "1aa4c46a-42d8-4d8c-8dbf-f8fa40717a01",
   "metadata": {},
   "outputs": [
    {
     "name": "stdout",
     "output_type": "stream",
     "text": [
      "<class 'bool'>  , True\n"
     ]
    }
   ],
   "source": [
    " is_student=True \n",
    " print(type(is_student),\" ,\",is_student)"
   ]
  },
  {
   "cell_type": "code",
   "execution_count": null,
   "id": "d7cd8a27-5056-48bf-9830-74516f514f98",
   "metadata": {},
   "outputs": [],
   "source": []
  }
 ],
 "metadata": {
  "kernelspec": {
   "display_name": "Python 3 (ipykernel)",
   "language": "python",
   "name": "python3"
  },
  "language_info": {
   "codemirror_mode": {
    "name": "ipython",
    "version": 3
   },
   "file_extension": ".py",
   "mimetype": "text/x-python",
   "name": "python",
   "nbconvert_exporter": "python",
   "pygments_lexer": "ipython3",
   "version": "3.10.8"
  }
 },
 "nbformat": 4,
 "nbformat_minor": 5
}
