{
 "cells": [
  {
   "cell_type": "markdown",
   "id": "c7f83654-5f21-4129-83c5-adebdfbfb5ab",
   "metadata": {},
   "source": [
    "Q1. Which keyword is used to create a function? Create a function to return a list of odd numbers in the range of 1 to 25."
   ]
  },
  {
   "cell_type": "raw",
   "id": "20f77be6-0b2b-401c-89cf-dc3a8759cab8",
   "metadata": {},
   "source": [
    "create a function use def keyword"
   ]
  },
  {
   "cell_type": "code",
   "execution_count": 1,
   "id": "f7e94e6e-26bc-4dec-94e7-f2d2ae028f0a",
   "metadata": {},
   "outputs": [],
   "source": [
    "def find_odd_number(n):\n",
    "    odd_num=[]\n",
    "    for i in n:\n",
    "        if i%2!=0 :\n",
    "            \n",
    "            odd_num.append(i)\n",
    "    return odd_num        "
   ]
  },
  {
   "cell_type": "code",
   "execution_count": 2,
   "id": "2abab58d-e429-4dbf-9837-db31f55f87db",
   "metadata": {},
   "outputs": [
    {
     "data": {
      "text/plain": [
       "[1, 3, 5, 7, 9, 11, 13, 15, 17, 19, 21, 23]"
      ]
     },
     "execution_count": 2,
     "metadata": {},
     "output_type": "execute_result"
    }
   ],
   "source": [
    "find_odd_number(range(1,25))"
   ]
  },
  {
   "cell_type": "markdown",
   "id": "8794d0f5-69a0-427a-ba17-b3fdd33595df",
   "metadata": {},
   "source": [
    "Q2. Why *args and **kwargs is used in some functions? Create a function each for *args and **kwargs to demonstrate their use."
   ]
  },
  {
   "cell_type": "raw",
   "id": "7da2e3e0-1261-46ed-a8b4-c40f0badbb38",
   "metadata": {},
   "source": [
    "*args is used for user-based multiple data entry in tuple format\n",
    "**kwargs, on the other hand, is used for user-based multiple data entry in dictionary format"
   ]
  },
  {
   "cell_type": "code",
   "execution_count": 3,
   "id": "0e727dd8-ab64-45f5-8c5b-08f80eae9cac",
   "metadata": {},
   "outputs": [],
   "source": [
    "def test_arge(*args):\n",
    "    return args\n",
    "def test_kwargs(**kwargs):\n",
    "    return kwargs"
   ]
  },
  {
   "cell_type": "code",
   "execution_count": 4,
   "id": "384878e9-c87e-4983-8a9d-e533ae8bffdc",
   "metadata": {},
   "outputs": [
    {
     "data": {
      "text/plain": [
       "(25, 56, 87)"
      ]
     },
     "execution_count": 4,
     "metadata": {},
     "output_type": "execute_result"
    }
   ],
   "source": [
    "test_arge(25,56,87)"
   ]
  },
  {
   "cell_type": "code",
   "execution_count": 5,
   "id": "5f41a081-3f62-4d42-9f26-c92258ce8e7e",
   "metadata": {},
   "outputs": [
    {
     "data": {
      "text/plain": [
       "{'nhj': 'gdsfgds', 'fgs': 5654, 'Tr': 58}"
      ]
     },
     "execution_count": 5,
     "metadata": {},
     "output_type": "execute_result"
    }
   ],
   "source": [
    "test_kwargs(nhj=\"gdsfgds\",fgs=5654,Tr=58)"
   ]
  },
  {
   "cell_type": "markdown",
   "id": "f93f8c8d-14db-4c82-840c-3960a12385b2",
   "metadata": {},
   "source": [
    "Q3. What is an iterator in python? Name the method used to initialise the iterator object and the method\n",
    "used for iteration. Use these methods to print the first five elements of the given list [2, 4, 6, 8, 10, 12, 14,\n",
    "16, 18, 20]."
   ]
  },
  {
   "cell_type": "raw",
   "id": "dbecb8f8-8045-48a8-a414-4f854ae36bab",
   "metadata": {},
   "source": [
    "The iterator function is used to access data from a database and provide data one by one to the user. We can iterate over the data by using iter() function after iterate data we use  next() function to get data "
   ]
  },
  {
   "cell_type": "code",
   "execution_count": 6,
   "id": "f5fa27f7-f060-4a35-bbbd-5e4a4490baf6",
   "metadata": {},
   "outputs": [
    {
     "name": "stdout",
     "output_type": "stream",
     "text": [
      "2\n",
      "4\n",
      "6\n",
      "8\n",
      "10\n"
     ]
    }
   ],
   "source": [
    "my_list = [2, 4, 6, 8, 10, 12, 14, 16, 18, 20]\n",
    "my_iter = iter(my_list)\n",
    "\n",
    "for _ in range(5):\n",
    "    print(next(my_iter))"
   ]
  },
  {
   "cell_type": "markdown",
   "id": "cc93d7ac-b9e8-49bf-b914-51cb8a62cfdd",
   "metadata": {},
   "source": [
    "Q4. What is a generator function in python? Why yield keyword is used? Give an example of a generator\n",
    "function."
   ]
  },
  {
   "cell_type": "raw",
   "id": "46f74757-ee72-4c35-b8c2-d0b543bbdae0",
   "metadata": {},
   "source": [
    "1- A generator function is used with the \"yield\" keyword to generate a sequence of values. It is used to generate a sequence of values one by one and can be used to iterate over values in a series using the \"next()\" function. This allows for continuous iteration.\n",
    "2- \"yield\" is a predefined keyword used in generator functions."
   ]
  },
  {
   "cell_type": "code",
   "execution_count": 2,
   "id": "38ff7e25-6cd7-4ada-9e7b-eced9ea8948a",
   "metadata": {},
   "outputs": [
    {
     "name": "stdout",
     "output_type": "stream",
     "text": [
      "1\n",
      "2\n",
      "3\n",
      "5\n",
      "8\n",
      "13\n",
      "21\n",
      "34\n",
      "55\n",
      "89\n"
     ]
    }
   ],
   "source": [
    "def genreat_fun():\n",
    "    a,b=1,2\n",
    "    while True:\n",
    "        yield a\n",
    "        a,b=b,a+b\n",
    "c=genreat_fun()\n",
    "for i in range(10):\n",
    "    print(next(c))"
   ]
  },
  {
   "cell_type": "markdown",
   "id": "d9fe16e3-0e57-489d-aafe-e5d174921250",
   "metadata": {},
   "source": [
    "Q5. Create a generator function for prime numbers less than 1000. Use the next() method to print the\n",
    "first 20 prime numbers."
   ]
  },
  {
   "cell_type": "code",
   "execution_count": 3,
   "id": "ba37a070-1572-41e7-a4a1-d7251142dffa",
   "metadata": {},
   "outputs": [],
   "source": [
    "def generate_primes():\n",
    "    primes = []\n",
    "    num = 2\n",
    "    while num < 1000:\n",
    "        is_prime = True\n",
    "        for prime in primes:\n",
    "            if num % prime == 0:\n",
    "                is_prime = False\n",
    "                break\n",
    "        if is_prime:\n",
    "            primes.append(num)\n",
    "            yield num\n",
    "        num += 1\n",
    "\n"
   ]
  },
  {
   "cell_type": "code",
   "execution_count": 4,
   "id": "16cb2fe6-3c3c-4e90-965c-591f2986ae46",
   "metadata": {},
   "outputs": [
    {
     "name": "stdout",
     "output_type": "stream",
     "text": [
      "[2, 3, 5, 7, 11, 13, 17, 19, 23, 29, 31, 37, 41, 43, 47, 53, 59, 61, 67, 71]\n"
     ]
    }
   ],
   "source": [
    "prime_generator = generate_primes()\n",
    "prime_list=[]\n",
    "for _ in range(20):\n",
    "    prime = next(prime_generator)\n",
    "    prime_list.append(prime)\n",
    "\n",
    "print(prime_list)"
   ]
  },
  {
   "cell_type": "markdown",
   "id": "28bf9c46-4a04-485a-8f20-a4776af617ee",
   "metadata": {
    "tags": []
   },
   "source": [
    "Q6. Write a python program to print the first 10 Fibonacci numbers using a while loop."
   ]
  },
  {
   "cell_type": "code",
   "execution_count": 7,
   "id": "2a3ece7b-09ad-4fa7-b935-9ac6be83e702",
   "metadata": {},
   "outputs": [
    {
     "name": "stdout",
     "output_type": "stream",
     "text": [
      "0\n",
      "1\n",
      "1\n",
      "2\n",
      "3\n",
      "5\n",
      "8\n",
      "13\n",
      "21\n",
      "34\n"
     ]
    }
   ],
   "source": [
    "f=[]\n",
    "a=0\n",
    "b=1\n",
    "d=0\n",
    "print(a)\n",
    "print(b)\n",
    "\n",
    "while d<8:\n",
    "    c=a+b\n",
    "    print(c)\n",
    "    a,b=b,c\n",
    "    d+=1"
   ]
  },
  {
   "cell_type": "markdown",
   "id": "6d7d6086-995e-42b2-afd0-ecdfd1ea72b5",
   "metadata": {},
   "source": [
    "Q7. Write a List Comprehension to iterate through the given string: ‘pwskills’.\n",
    "Expected output: ['p', 'w', 's', 'k', 'i', 'l', 'l', 's']"
   ]
  },
  {
   "cell_type": "code",
   "execution_count": 1,
   "id": "a63339ac-0132-4933-bef6-b4847bb0cd3b",
   "metadata": {},
   "outputs": [
    {
     "name": "stdout",
     "output_type": "stream",
     "text": [
      "['p', 'w', 's', 'k', 'i', 'l', 'l', 's']\n"
     ]
    }
   ],
   "source": [
    "s='pwskills'\n",
    "t=iter(s)\n",
    "s1=[]\n",
    "for i in s:\n",
    "    s1.append(next(t))\n",
    "print(s1)"
   ]
  },
  {
   "cell_type": "markdown",
   "id": "3d376a3f-e211-48e0-aa3c-b736c0f612ff",
   "metadata": {},
   "source": [
    "Q8. Write a python program to check whether a given number is Palindrome or not using a while loop."
   ]
  },
  {
   "cell_type": "code",
   "execution_count": 4,
   "id": "b410ce8a-f4a0-4519-bdc6-0076eff0e09e",
   "metadata": {},
   "outputs": [
    {
     "name": "stdin",
     "output_type": "stream",
     "text": [
      "Check Palindrome:  545\n"
     ]
    },
    {
     "name": "stdout",
     "output_type": "stream",
     "text": [
      "This is a Palindrome\n"
     ]
    }
   ],
   "source": [
    "x = int(input(\"Check Palindrome: \"))\n",
    "num = x\n",
    "reversed_num = 0\n",
    "\n",
    "while num > 0:\n",
    "    digit = num % 10\n",
    "    reversed_num = (reversed_num * 10) + digit\n",
    "    num = num // 10\n",
    "\n",
    "if x == reversed_num:\n",
    "    print(\"This is a Palindrome\")\n",
    "else:\n",
    "    print(\"This is not a Palindrome\")\n"
   ]
  },
  {
   "cell_type": "markdown",
   "id": "7309b1a3-fa91-4e9b-b578-02083c60136d",
   "metadata": {},
   "source": [
    "Q9. Write a code to print odd numbers from 1 to 100 using list comprehension."
   ]
  },
  {
   "cell_type": "code",
   "execution_count": 5,
   "id": "55d5cccb-d727-4d6f-bfde-81d66ee16280",
   "metadata": {},
   "outputs": [
    {
     "name": "stdout",
     "output_type": "stream",
     "text": [
      "[1, 3, 5, 7, 9, 11, 13, 15, 17, 19, 21, 23, 25, 27, 29, 31, 33, 35, 37, 39, 41, 43, 45, 47, 49, 51, 53, 55, 57, 59, 61, 63, 65, 67, 69, 71, 73, 75, 77, 79, 81, 83, 85, 87, 89, 91, 93, 95, 97, 99]\n"
     ]
    }
   ],
   "source": [
    "odd_num= []\n",
    "for i in range(100):\n",
    "    if i%2!=0:\n",
    "        odd_num.append(i)\n",
    "        \n",
    "        \n",
    "   \n",
    "        \n",
    "print(odd_num)        \n",
    "        "
   ]
  },
  {
   "cell_type": "code",
   "execution_count": null,
   "id": "f0d3668c-d749-4a58-ab23-c2b90beb225e",
   "metadata": {},
   "outputs": [],
   "source": []
  }
 ],
 "metadata": {
  "kernelspec": {
   "display_name": "Python 3 (ipykernel)",
   "language": "python",
   "name": "python3"
  },
  "language_info": {
   "codemirror_mode": {
    "name": "ipython",
    "version": 3
   },
   "file_extension": ".py",
   "mimetype": "text/x-python",
   "name": "python",
   "nbconvert_exporter": "python",
   "pygments_lexer": "ipython3",
   "version": "3.10.8"
  }
 },
 "nbformat": 4,
 "nbformat_minor": 5
}
